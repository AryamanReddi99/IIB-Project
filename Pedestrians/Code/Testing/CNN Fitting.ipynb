{
 "cells": [
  {
   "cell_type": "code",
   "execution_count": 1,
   "metadata": {},
   "outputs": [
    {
     "name": "stdout",
     "output_type": "stream",
     "text": [
      "pygame 2.0.1 (SDL 2.0.14, Python 3.8.6)\n",
      "Hello from the pygame community. https://www.pygame.org/contribute.html\n"
     ]
    }
   ],
   "source": [
    "import os\n",
    "import time\n",
    "import pprint\n",
    "import numpy as np\n",
    "import matplotlib.pyplot as plt\n",
    "from datetime import datetime\n",
    "from pathlib import Path\n",
    "from tqdm import tqdm\n",
    "from pkg.general import *\n",
    "from pkg.env import *\n",
    "from pkg.dqn import *\n",
    "from pkg.window import *"
   ]
  },
  {
   "cell_type": "code",
   "execution_count": 3,
   "metadata": {},
   "outputs": [
    {
     "data": {
      "text/plain": [
       "['C:\\\\Users\\\\Red\\\\Google_Drive\\\\IIB_Project\\\\Pedestrians\\\\Code\\\\Testing',\n",
       " 'C:\\\\Users\\\\Red\\\\AppData\\\\Local\\\\Programs\\\\Python\\\\Python38\\\\python38.zip',\n",
       " 'C:\\\\Users\\\\Red\\\\AppData\\\\Local\\\\Programs\\\\Python\\\\Python38\\\\DLLs',\n",
       " 'C:\\\\Users\\\\Red\\\\AppData\\\\Local\\\\Programs\\\\Python\\\\Python38\\\\lib',\n",
       " 'C:\\\\Users\\\\Red\\\\AppData\\\\Local\\\\Programs\\\\Python\\\\Python38',\n",
       " 'C:\\\\Users\\\\Red\\\\Google_Drive\\\\IIB_Project\\\\Pedestrians\\\\pyvenv_ped',\n",
       " '',\n",
       " 'C:\\\\Users\\\\Red\\\\Google_Drive\\\\IIB_Project\\\\Pedestrians\\\\pyvenv_ped\\\\lib\\\\site-packages',\n",
       " 'C:\\\\Users\\\\Red\\\\Google_Drive\\\\IIB_Project\\\\Pedestrians\\\\pyvenv_ped\\\\lib\\\\site-packages\\\\win32',\n",
       " 'C:\\\\Users\\\\Red\\\\Google_Drive\\\\IIB_Project\\\\Pedestrians\\\\pyvenv_ped\\\\lib\\\\site-packages\\\\win32\\\\lib',\n",
       " 'C:\\\\Users\\\\Red\\\\Google_Drive\\\\IIB_Project\\\\Pedestrians\\\\pyvenv_ped\\\\lib\\\\site-packages\\\\Pythonwin',\n",
       " 'C:\\\\Users\\\\Red\\\\Google_Drive\\\\IIB_Project\\\\Pedestrians\\\\pyvenv_ped\\\\lib\\\\site-packages\\\\IPython\\\\extensions',\n",
       " 'C:\\\\Users\\\\Red\\\\.ipython']"
      ]
     },
     "execution_count": 3,
     "metadata": {},
     "output_type": "execute_result"
    }
   ],
   "source": [
    "import sys\n",
    "sys.path"
   ]
  }
 ],
 "metadata": {
  "kernelspec": {
   "display_name": "Python 3",
   "language": "python",
   "name": "python3"
  },
  "language_info": {
   "codemirror_mode": {
    "name": "ipython",
    "version": 3
   },
   "file_extension": ".py",
   "mimetype": "text/x-python",
   "name": "python",
   "nbconvert_exporter": "python",
   "pygments_lexer": "ipython3",
   "version": "3.8.6"
  }
 },
 "nbformat": 4,
 "nbformat_minor": 4
}
